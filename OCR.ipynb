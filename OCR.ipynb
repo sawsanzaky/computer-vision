{
 "cells": [
  {
   "cell_type": "markdown",
   "id": "5112300a",
   "metadata": {},
   "source": [
    "### Importing relevant libraries"
   ]
  },
  {
   "cell_type": "code",
   "execution_count": 1,
   "id": "53727cbf",
   "metadata": {},
   "outputs": [
    {
     "name": "stdout",
     "output_type": "stream",
     "text": [
      "INFO:tensorflow:Enabling eager execution\n",
      "INFO:tensorflow:Enabling v2 tensorshape\n",
      "INFO:tensorflow:Enabling resource variables\n",
      "INFO:tensorflow:Enabling tensor equality\n",
      "INFO:tensorflow:Enabling control flow v2\n"
     ]
    }
   ],
   "source": [
    "from PIL import Image \n",
    "import numpy as np\n",
    "import os\n",
    "from os import listdir\n",
    "from PIL import Image \n",
    "from sklearn.preprocessing import MinMaxScaler\n",
    "scaler = MinMaxScaler()\n",
    "import joblib\n",
    "import pandas as pd\n",
    "import matplotlib.pyplot as plt\n",
    "import tensorflow as tf\n",
    "import numpy as np\n",
    "import warnings\n",
    "warnings.filterwarnings('ignore')"
   ]
  },
  {
   "cell_type": "markdown",
   "id": "32c72702",
   "metadata": {},
   "source": [
    "### Loading labels"
   ]
  },
  {
   "cell_type": "code",
   "execution_count": 2,
   "id": "a2bd807d",
   "metadata": {},
   "outputs": [
    {
     "data": {
      "text/html": [
       "<div>\n",
       "<style scoped>\n",
       "    .dataframe tbody tr th:only-of-type {\n",
       "        vertical-align: middle;\n",
       "    }\n",
       "\n",
       "    .dataframe tbody tr th {\n",
       "        vertical-align: top;\n",
       "    }\n",
       "\n",
       "    .dataframe thead th {\n",
       "        text-align: right;\n",
       "    }\n",
       "</style>\n",
       "<table border=\"1\" class=\"dataframe\">\n",
       "  <thead>\n",
       "    <tr style=\"text-align: right;\">\n",
       "      <th></th>\n",
       "      <th>id</th>\n",
       "      <th>label</th>\n",
       "    </tr>\n",
       "  </thead>\n",
       "  <tbody>\n",
       "    <tr>\n",
       "      <th>0</th>\n",
       "      <td>0</td>\n",
       "      <td>24</td>\n",
       "    </tr>\n",
       "    <tr>\n",
       "      <th>1</th>\n",
       "      <td>1</td>\n",
       "      <td>2</td>\n",
       "    </tr>\n",
       "    <tr>\n",
       "      <th>2</th>\n",
       "      <td>2</td>\n",
       "      <td>17</td>\n",
       "    </tr>\n",
       "    <tr>\n",
       "      <th>3</th>\n",
       "      <td>3</td>\n",
       "      <td>14</td>\n",
       "    </tr>\n",
       "    <tr>\n",
       "      <th>4</th>\n",
       "      <td>4</td>\n",
       "      <td>19</td>\n",
       "    </tr>\n",
       "    <tr>\n",
       "      <th>...</th>\n",
       "      <td>...</td>\n",
       "      <td>...</td>\n",
       "    </tr>\n",
       "    <tr>\n",
       "      <th>13435</th>\n",
       "      <td>13435</td>\n",
       "      <td>5</td>\n",
       "    </tr>\n",
       "    <tr>\n",
       "      <th>13436</th>\n",
       "      <td>13436</td>\n",
       "      <td>26</td>\n",
       "    </tr>\n",
       "    <tr>\n",
       "      <th>13437</th>\n",
       "      <td>13437</td>\n",
       "      <td>2</td>\n",
       "    </tr>\n",
       "    <tr>\n",
       "      <th>13438</th>\n",
       "      <td>13438</td>\n",
       "      <td>24</td>\n",
       "    </tr>\n",
       "    <tr>\n",
       "      <th>13439</th>\n",
       "      <td>13439</td>\n",
       "      <td>13</td>\n",
       "    </tr>\n",
       "  </tbody>\n",
       "</table>\n",
       "<p>13440 rows × 2 columns</p>\n",
       "</div>"
      ],
      "text/plain": [
       "          id  label\n",
       "0          0     24\n",
       "1          1      2\n",
       "2          2     17\n",
       "3          3     14\n",
       "4          4     19\n",
       "...      ...    ...\n",
       "13435  13435      5\n",
       "13436  13436     26\n",
       "13437  13437      2\n",
       "13438  13438     24\n",
       "13439  13439     13\n",
       "\n",
       "[13440 rows x 2 columns]"
      ]
     },
     "execution_count": 2,
     "metadata": {},
     "output_type": "execute_result"
    }
   ],
   "source": [
    "df= pd.read_csv('train.csv')\n",
    "df"
   ]
  },
  {
   "cell_type": "code",
   "execution_count": 3,
   "id": "d788e141",
   "metadata": {},
   "outputs": [],
   "source": [
    "labels= df['label']"
   ]
  },
  {
   "cell_type": "code",
   "execution_count": 4,
   "id": "d301e272",
   "metadata": {},
   "outputs": [
    {
     "data": {
      "text/plain": [
       "(13440,)"
      ]
     },
     "execution_count": 4,
     "metadata": {},
     "output_type": "execute_result"
    }
   ],
   "source": [
    "labels.shape"
   ]
  },
  {
   "cell_type": "code",
   "execution_count": 25,
   "id": "2bff6085",
   "metadata": {},
   "outputs": [],
   "source": [
    "l=labels-1"
   ]
  },
  {
   "cell_type": "code",
   "execution_count": 26,
   "id": "c9172cd9",
   "metadata": {},
   "outputs": [
    {
     "data": {
      "text/plain": [
       "27"
      ]
     },
     "execution_count": 26,
     "metadata": {},
     "output_type": "execute_result"
    }
   ],
   "source": [
    "l.max()"
   ]
  },
  {
   "cell_type": "code",
   "execution_count": 27,
   "id": "c146e322",
   "metadata": {},
   "outputs": [
    {
     "data": {
      "text/plain": [
       "0"
      ]
     },
     "execution_count": 27,
     "metadata": {},
     "output_type": "execute_result"
    }
   ],
   "source": [
    "l.min()"
   ]
  },
  {
   "cell_type": "markdown",
   "id": "83236709",
   "metadata": {},
   "source": [
    "### Loading images"
   ]
  },
  {
   "cell_type": "code",
   "execution_count": 5,
   "id": "a41ca769",
   "metadata": {},
   "outputs": [],
   "source": [
    "train_path=\"C:\\\\Users\\\\mady\\\\Epita\\\\OCR\\\\train\\\\\"\n",
    "test_path=\"C:\\\\Users\\\\mady\\\\Epita\\\\OCR\\\\test\\\\\""
   ]
  },
  {
   "cell_type": "code",
   "execution_count": 6,
   "id": "fdc11d84",
   "metadata": {},
   "outputs": [],
   "source": [
    "def loadImages(path):\n",
    "    # return array of images\n",
    "    \n",
    "    imagesList = listdir(path)\n",
    "    image_df = []\n",
    "    for image in imagesList:\n",
    "        img = Image.open(path + image).convert('L')\n",
    "        img=img.resize((32,32))\n",
    "        img=np.asarray(img)\n",
    "        img=img.reshape((32,32,1))\n",
    "        img=img/255\n",
    "        image_df.append(img)\n",
    "    \n",
    "    return np.array(image_df)"
   ]
  },
  {
   "cell_type": "code",
   "execution_count": 7,
   "id": "d2dd3db0",
   "metadata": {},
   "outputs": [],
   "source": [
    "train_data = loadImages(train_path)\n",
    "test_data= loadImages(test_path)"
   ]
  },
  {
   "cell_type": "code",
   "execution_count": 8,
   "id": "5f07dde5",
   "metadata": {},
   "outputs": [
    {
     "data": {
      "text/plain": [
       "(13440, 32, 32, 1)"
      ]
     },
     "execution_count": 8,
     "metadata": {},
     "output_type": "execute_result"
    }
   ],
   "source": [
    "train_data.shape"
   ]
  },
  {
   "cell_type": "code",
   "execution_count": 9,
   "id": "cac86d94",
   "metadata": {},
   "outputs": [
    {
     "data": {
      "text/plain": [
       "(3360, 32, 32, 1)"
      ]
     },
     "execution_count": 9,
     "metadata": {},
     "output_type": "execute_result"
    }
   ],
   "source": [
    "test_data.shape"
   ]
  },
  {
   "cell_type": "markdown",
   "id": "390bbf29",
   "metadata": {},
   "source": [
    "### Visualizing some images"
   ]
  },
  {
   "cell_type": "code",
   "execution_count": 10,
   "id": "a41ad116",
   "metadata": {},
   "outputs": [
    {
     "data": {
      "text/plain": [
       "<matplotlib.image.AxesImage at 0x1fef65aed00>"
      ]
     },
     "execution_count": 10,
     "metadata": {},
     "output_type": "execute_result"
    },
    {
     "data": {
      "image/png": "[encoded data removed]",
      "text/plain": [
       "<Figure size 432x288 with 1 Axes>"
      ]
     },
     "metadata": {
      "needs_background": "light"
     },
     "output_type": "display_data"
    }
   ],
   "source": [
    "plt.imshow(train_data[0])"
   ]
  },
  {
   "cell_type": "markdown",
   "id": "393baeeb",
   "metadata": {},
   "source": [
    "### Shuffling images"
   ]
  },
  {
   "cell_type": "code",
   "execution_count": 11,
   "id": "1cd0ebed",
   "metadata": {},
   "outputs": [],
   "source": [
    "indices = np.arange(train_data.shape[0])\n",
    "np.random.shuffle(indices)\n",
    "shuffled_images = train_data[indices]\n",
    "shuffled_labels = labels[indices]\n"
   ]
  },
  {
   "cell_type": "markdown",
   "id": "aff7198d",
   "metadata": {},
   "source": [
    "### Dividing data into train/validation/test"
   ]
  },
  {
   "cell_type": "code",
   "execution_count": 12,
   "id": "1898e36b",
   "metadata": {},
   "outputs": [],
   "source": [
    "validation_samples= int(0.1*train_data.shape[0])    #nearly 10%\n",
    "test_samples = int(0.1*train_data.shape[0])        #nearly 10%    \n",
    "train_samples = train_data.shape[0]-(validation_samples+test_samples)      #nearly 80%\n"
   ]
  },
  {
   "cell_type": "code",
   "execution_count": 13,
   "id": "875e0158",
   "metadata": {},
   "outputs": [],
   "source": [
    "validation_images= shuffled_images[:validation_samples]\n",
    "validation_labels= shuffled_labels[:validation_samples]\n",
    "\n",
    "test_images = shuffled_images[validation_samples:validation_samples+test_samples]\n",
    "test_labels= shuffled_labels[validation_samples:validation_samples+test_samples]\n",
    "\n",
    "\n",
    "train_images = shuffled_images[validation_samples+test_samples:]\n",
    "train_labels = shuffled_labels[validation_samples+test_samples:]\n",
    "\n"
   ]
  },
  {
   "cell_type": "code",
   "execution_count": 14,
   "id": "7b18b420",
   "metadata": {},
   "outputs": [
    {
     "data": {
      "text/plain": [
       "(10752, 32, 32, 1)"
      ]
     },
     "execution_count": 14,
     "metadata": {},
     "output_type": "execute_result"
    }
   ],
   "source": [
    "train_images.shape"
   ]
  },
  {
   "cell_type": "code",
   "execution_count": 15,
   "id": "52db32e7",
   "metadata": {},
   "outputs": [
    {
     "data": {
      "text/plain": [
       "(1344, 32, 32, 1)"
      ]
     },
     "execution_count": 15,
     "metadata": {},
     "output_type": "execute_result"
    }
   ],
   "source": [
    "validation_images.shape"
   ]
  },
  {
   "cell_type": "code",
   "execution_count": 16,
   "id": "0132b607",
   "metadata": {},
   "outputs": [
    {
     "data": {
      "text/plain": [
       "(1344, 32, 32, 1)"
      ]
     },
     "execution_count": 16,
     "metadata": {},
     "output_type": "execute_result"
    }
   ],
   "source": [
    "test_images.shape"
   ]
  },
  {
   "cell_type": "markdown",
   "id": "38837464",
   "metadata": {},
   "source": [
    "### Model outline"
   ]
  },
  {
   "cell_type": "code",
   "execution_count": 151,
   "id": "cce1d60c",
   "metadata": {},
   "outputs": [],
   "source": [
    "model = tf.keras.Sequential([\n",
    "    \n",
    "    tf.keras.layers.Conv2D(64,3,activation='relu',input_shape=(32,32,1)),\n",
    "    tf.keras.layers.MaxPooling2D(pool_size=(2,2)),\n",
    "    tf.keras.layers.Conv2D(64,3,activation='relu'),\n",
    "    tf.keras.layers.MaxPooling2D(pool_size=(2,2)),\n",
    "    tf.keras.layers.Flatten(),\n",
    "    tf.keras.layers.Dense(128,'relu'),\n",
    "#     tf.keras.layers.Dense(128,'relu'),\n",
    "\n",
    "#     tf.keras.layers.Dense(100,'relu'),\n",
    "    tf.keras.layers.Dense(29)\n",
    "    \n",
    "    \n",
    "])                                "
   ]
  },
  {
   "cell_type": "markdown",
   "id": "a8b43d1c",
   "metadata": {},
   "source": [
    "### Model architecture"
   ]
  },
  {
   "cell_type": "code",
   "execution_count": 152,
   "id": "6a28da30",
   "metadata": {},
   "outputs": [
    {
     "name": "stdout",
     "output_type": "stream",
     "text": [
      "Model: \"sequential_15\"\n",
      "___________________________________________________________________________\n",
      "Layer (type)                     Output Shape                  Param #     \n",
      "===========================================================================\n",
      "conv2d_26 (Conv2D)               (None, 30, 30, 64)            640         \n",
      "___________________________________________________________________________\n",
      "max_pooling2d_24 (MaxPooling2D)  (None, 15, 15, 64)            0           \n",
      "___________________________________________________________________________\n",
      "conv2d_27 (Conv2D)               (None, 13, 13, 64)            36928       \n",
      "___________________________________________________________________________\n",
      "max_pooling2d_25 (MaxPooling2D)  (None, 6, 6, 64)              0           \n",
      "___________________________________________________________________________\n",
      "flatten_15 (Flatten)             (None, 2304)                  0           \n",
      "___________________________________________________________________________\n",
      "dense_35 (Dense)                 (None, 128)                   295040      \n",
      "___________________________________________________________________________\n",
      "dense_36 (Dense)                 (None, 29)                    3741        \n",
      "===========================================================================\n",
      "Total params: 336,349\n",
      "Trainable params: 336,349\n",
      "Non-trainable params: 0\n",
      "___________________________________________________________________________\n"
     ]
    }
   ],
   "source": [
    "model.summary(line_length=75)"
   ]
  },
  {
   "cell_type": "markdown",
   "id": "9b84a8f9",
   "metadata": {},
   "source": [
    "### Compiling our model"
   ]
  },
  {
   "cell_type": "code",
   "execution_count": 153,
   "id": "f343ed7d",
   "metadata": {},
   "outputs": [],
   "source": [
    "loss_fn= tf.keras.losses.SparseCategoricalCrossentropy(from_logits=True)"
   ]
  },
  {
   "cell_type": "code",
   "execution_count": 154,
   "id": "24fceaef",
   "metadata": {},
   "outputs": [],
   "source": [
    "model.compile(optimizer='adam',loss=loss_fn,metrics=['accuracy'])"
   ]
  },
  {
   "cell_type": "markdown",
   "id": "20c5bfdf",
   "metadata": {},
   "source": [
    "### Defining early stopping technique"
   ]
  },
  {
   "cell_type": "code",
   "execution_count": 155,
   "id": "f53495c3",
   "metadata": {},
   "outputs": [],
   "source": [
    "early_stopping=tf.keras.callbacks.EarlyStopping(\n",
    "monitor='val_loss',\n",
    "mode='auto',\n",
    "min_delta=0,\n",
    "patience=2,\n",
    "verbose=0,\n",
    "restore_best_weights=True)"
   ]
  },
  {
   "cell_type": "markdown",
   "id": "136a69cf",
   "metadata": {},
   "source": [
    "### Fitting our model"
   ]
  },
  {
   "cell_type": "code",
   "execution_count": 160,
   "id": "dccde8a1",
   "metadata": {},
   "outputs": [
    {
     "name": "stdout",
     "output_type": "stream",
     "text": [
      "Epoch 1/100\n",
      "11/11 - 4s - loss: 0.0572 - accuracy: 0.9896 - val_loss: 0.2987 - val_accuracy: 0.9040\n",
      "Epoch 2/100\n",
      "11/11 - 4s - loss: 0.0554 - accuracy: 0.9895 - val_loss: 0.3004 - val_accuracy: 0.9048\n",
      "Epoch 3/100\n",
      "11/11 - 4s - loss: 0.0538 - accuracy: 0.9890 - val_loss: 0.3008 - val_accuracy: 0.9055\n"
     ]
    },
    {
     "data": {
      "text/plain": [
       "<tensorflow.python.keras.callbacks.History at 0x1dd4c290c10>"
      ]
     },
     "execution_count": 160,
     "metadata": {},
     "output_type": "execute_result"
    }
   ],
   "source": [
    "model.fit(\n",
    "    train_images,\n",
    "    train_labels,\n",
    "    epochs=100,\n",
    "    batch_size=1024,\n",
    "    callbacks=[early_stopping],\n",
    "    validation_data= (validation_images,validation_labels),\n",
    "    verbose=2\n",
    ")"
   ]
  },
  {
   "cell_type": "code",
   "execution_count": 161,
   "id": "d316fb5f",
   "metadata": {},
   "outputs": [
    {
     "name": "stdout",
     "output_type": "stream",
     "text": [
      "42/42 [==============================] - 0s 5ms/step - loss: 0.3582 - accuracy: 0.9077\n"
     ]
    },
    {
     "data": {
      "text/plain": [
       "[0.35822877287864685, 0.9077380895614624]"
      ]
     },
     "execution_count": 161,
     "metadata": {},
     "output_type": "execute_result"
    }
   ],
   "source": [
    "model.evaluate(test_images,test_labels)"
   ]
  },
  {
   "cell_type": "code",
   "execution_count": null,
   "id": "0ab45bd6",
   "metadata": {},
   "outputs": [],
   "source": []
  },
  {
   "cell_type": "markdown",
   "id": "3c0e36c3",
   "metadata": {},
   "source": [
    "### Generating predictions"
   ]
  },
  {
   "cell_type": "code",
   "execution_count": 185,
   "id": "e945bf13",
   "metadata": {},
   "outputs": [],
   "source": [
    "predictions= model.predict(test_data)"
   ]
  },
  {
   "cell_type": "code",
   "execution_count": 186,
   "id": "3374a84d",
   "metadata": {},
   "outputs": [
    {
     "data": {
      "text/plain": [
       "array([[-26.988398  , -26.09919   , -13.764016  , ...,  18.581097  ,\n",
       "          4.62803   ,  -3.4238904 ],\n",
       "       [-14.572941  ,  -4.2888365 ,  -3.4508126 , ...,  -2.5110266 ,\n",
       "          2.38784   ,  -3.678976  ],\n",
       "       [-25.28751   ,  26.505962  ,  -3.5646892 , ..., -14.901378  ,\n",
       "          1.8279961 , -10.093289  ],\n",
       "       ...,\n",
       "       [-18.637848  , -23.173082  ,  -3.574599  , ...,  -9.038627  ,\n",
       "        -15.517454  ,  -1.4109501 ],\n",
       "       [-28.90252   ,  -6.8226237 , -13.845346  , ...,  -7.7403684 ,\n",
       "          0.34811535, -11.526544  ],\n",
       "       [-25.091755  , -31.701567  ,  -4.2782297 , ...,  -7.6657014 ,\n",
       "        -14.309497  ,  -3.6787732 ]], dtype=float32)"
      ]
     },
     "execution_count": 186,
     "metadata": {},
     "output_type": "execute_result"
    }
   ],
   "source": [
    "predictions"
   ]
  },
  {
   "cell_type": "code",
   "execution_count": 187,
   "id": "4373868d",
   "metadata": {},
   "outputs": [],
   "source": [
    "predictions= np.argmax(predictions,axis=1)"
   ]
  },
  {
   "cell_type": "code",
   "execution_count": 188,
   "id": "b74ed99b",
   "metadata": {},
   "outputs": [
    {
     "data": {
      "text/plain": [
       "(3360,)"
      ]
     },
     "execution_count": 188,
     "metadata": {},
     "output_type": "execute_result"
    }
   ],
   "source": [
    "predictions.shape"
   ]
  },
  {
   "cell_type": "code",
   "execution_count": 189,
   "id": "c1413f30",
   "metadata": {},
   "outputs": [],
   "source": [
    "test_df= pd.read_csv('test.csv')"
   ]
  },
  {
   "cell_type": "code",
   "execution_count": 190,
   "id": "80137324",
   "metadata": {},
   "outputs": [
    {
     "data": {
      "text/html": [
       "<div>\n",
       "<style scoped>\n",
       "    .dataframe tbody tr th:only-of-type {\n",
       "        vertical-align: middle;\n",
       "    }\n",
       "\n",
       "    .dataframe tbody tr th {\n",
       "        vertical-align: top;\n",
       "    }\n",
       "\n",
       "    .dataframe thead th {\n",
       "        text-align: right;\n",
       "    }\n",
       "</style>\n",
       "<table border=\"1\" class=\"dataframe\">\n",
       "  <thead>\n",
       "    <tr style=\"text-align: right;\">\n",
       "      <th></th>\n",
       "      <th>id</th>\n",
       "    </tr>\n",
       "  </thead>\n",
       "  <tbody>\n",
       "    <tr>\n",
       "      <th>0</th>\n",
       "      <td>0</td>\n",
       "    </tr>\n",
       "    <tr>\n",
       "      <th>1</th>\n",
       "      <td>1</td>\n",
       "    </tr>\n",
       "    <tr>\n",
       "      <th>2</th>\n",
       "      <td>2</td>\n",
       "    </tr>\n",
       "    <tr>\n",
       "      <th>3</th>\n",
       "      <td>3</td>\n",
       "    </tr>\n",
       "    <tr>\n",
       "      <th>4</th>\n",
       "      <td>4</td>\n",
       "    </tr>\n",
       "    <tr>\n",
       "      <th>...</th>\n",
       "      <td>...</td>\n",
       "    </tr>\n",
       "    <tr>\n",
       "      <th>3355</th>\n",
       "      <td>3355</td>\n",
       "    </tr>\n",
       "    <tr>\n",
       "      <th>3356</th>\n",
       "      <td>3356</td>\n",
       "    </tr>\n",
       "    <tr>\n",
       "      <th>3357</th>\n",
       "      <td>3357</td>\n",
       "    </tr>\n",
       "    <tr>\n",
       "      <th>3358</th>\n",
       "      <td>3358</td>\n",
       "    </tr>\n",
       "    <tr>\n",
       "      <th>3359</th>\n",
       "      <td>3359</td>\n",
       "    </tr>\n",
       "  </tbody>\n",
       "</table>\n",
       "<p>3360 rows × 1 columns</p>\n",
       "</div>"
      ],
      "text/plain": [
       "        id\n",
       "0        0\n",
       "1        1\n",
       "2        2\n",
       "3        3\n",
       "4        4\n",
       "...    ...\n",
       "3355  3355\n",
       "3356  3356\n",
       "3357  3357\n",
       "3358  3358\n",
       "3359  3359\n",
       "\n",
       "[3360 rows x 1 columns]"
      ]
     },
     "execution_count": 190,
     "metadata": {},
     "output_type": "execute_result"
    }
   ],
   "source": [
    "test_df"
   ]
  },
  {
   "cell_type": "code",
   "execution_count": 191,
   "id": "7aebadfa",
   "metadata": {},
   "outputs": [],
   "source": [
    "preds= pd.DataFrame()\n",
    "preds['id']= test_df['id']\n",
    "preds['label']= predictions"
   ]
  },
  {
   "cell_type": "markdown",
   "id": "693e2646",
   "metadata": {},
   "source": [
    "### Exporting to csv"
   ]
  },
  {
   "cell_type": "code",
   "execution_count": 192,
   "id": "3b5377ff",
   "metadata": {},
   "outputs": [],
   "source": [
    "preds.to_csv('submission.csv',index=False)"
   ]
  }
 ],
 "metadata": {
  "kernelspec": {
   "display_name": "Python 3",
   "language": "python",
   "name": "python3"
  },
  "language_info": {
   "codemirror_mode": {
    "name": "ipython",
    "version": 3
   },
   "file_extension": ".py",
   "mimetype": "text/x-python",
   "name": "python",
   "nbconvert_exporter": "python",
   "pygments_lexer": "ipython3",
   "version": "3.9.2"
  }
 },
 "nbformat": 4,
 "nbformat_minor": 5
}
